{
 "cells": [
  {
   "cell_type": "code",
   "execution_count": 2,
   "metadata": {},
   "outputs": [],
   "source": [
    "import cv2\n",
    "import numpy as np\n",
    "import matplotlib.pyplot as plt\n",
    "from astropy.visualization import SqrtStretch\n",
    "from astropy.visualization.mpl_normalize import ImageNormalize"
   ]
  },
  {
   "cell_type": "markdown",
   "metadata": {},
   "source": []
  },
  {
   "cell_type": "code",
   "execution_count": 3,
   "metadata": {},
   "outputs": [],
   "source": [
    "image=cv2.imread('xray1.jpeg')\n",
    "cv2.imshow(\"Data\",image)"
   ]
  },
  {
   "cell_type": "code",
   "execution_count": 4,
   "metadata": {},
   "outputs": [],
   "source": [
    "gray_image = cv2.cvtColor(image, cv2.COLOR_BGR2GRAY)"
   ]
  },
  {
   "cell_type": "code",
   "execution_count": 5,
   "metadata": {},
   "outputs": [],
   "source": [
    "from astropy.convolution import Gaussian2DKernel\n",
    "from photutils.background import Background2D, MedianBackground\n",
    "from photutils.segmentation import detect_threshold, detect_sources, deblend_sources\n",
    "data = gray_image\n",
    "threshold = detect_threshold(data, nsigma=2.)"
   ]
  },
  {
   "cell_type": "code",
   "execution_count": 6,
   "metadata": {},
   "outputs": [],
   "source": [
    "from astropy.stats import https://towardsdata science.com/music-in-python-2f054deb41f4\n",
    "sigma = 3.0 * gaussian_fwhm_to_sigma  # FWHM = 3.\n",
    "kernel = Gaussian2DKernel(sigma, x_size=3, y_size=3)\n",
    "kernel.normalize()\n",
    "npixels = 5\n",
    "segm = detect_sources(data, threshold, npixels=npixels, kernel=kernel)\n",
    "segm_deblend = deblend_sources(data, segm, npixels=npixels,kernel=kernel, nlevels=32,contrast=0.001)"
   ]
  },
  {
   "cell_type": "code",
   "execution_count": 7,
   "metadata": {},
   "outputs": [
    {
     "data": {
      "image/png": "[encoded data removed]",
      "text/plain": [
       "<Figure size 720x468 with 1 Axes>"
      ]
     },
     "metadata": {
      "needs_background": "light"
     },
     "output_type": "display_data"
    }
   ],
   "source": [
    "norm = ImageNormalize(stretch=SqrtStretch())\n",
    "fig, ax = plt.subplots(1, 1, figsize=(10, 6.5))\n",
    "cmap = segm_deblend.make_cmap(seed=123)\n",
    "ax.imshow(segm_deblend, origin='lower', cmap=cmap, interpolation='nearest')\n",
    "ax.set_title('Deblended Segmentation Image')\n",
    "plt.tight_layout()"
   ]
  },
  {
   "cell_type": "code",
   "execution_count": 8,
   "metadata": {},
   "outputs": [
    {
     "name": "stdout",
     "output_type": "stream",
     "text": [
      "label xcentroid ycentroid ... segment_fluxerr kron_flux kron_fluxerr\n",
      "                          ...                                       \n",
      "----- --------- --------- ... --------------- --------- ------------\n",
      "    1    215.04      9.26 ...             nan   3057.27          nan\n",
      "    2    143.79     80.71 ...             nan  53278.13          nan\n",
      "    3    397.40     93.99 ...             nan  27935.31          nan\n",
      "    4    341.19    109.15 ...             nan   3695.31          nan\n",
      "    5    422.84    112.06 ...             nan  12224.59          nan\n",
      "    6    372.37    120.72 ...             nan   6484.33          nan\n",
      "    7    215.44    125.10 ...             nan  12739.59          nan\n",
      "    8    438.80    127.13 ...             nan  13946.16          nan\n",
      "    9    161.09    128.82 ...             nan   7061.95          nan\n",
      "   10    431.01    128.48 ...             nan   8658.75          nan\n",
      "  ...       ...       ... ...             ...       ...          ...\n",
      "  102    177.58    215.57 ...             nan 195053.59          nan\n",
      "  103    181.76    223.07 ...             nan  23739.60          nan\n",
      "  104    179.32    232.56 ...             nan 215569.81          nan\n",
      "  105    166.22    239.97 ...             nan 115623.86          nan\n",
      "  106    152.06    240.99 ...             nan 140392.24          nan\n",
      "  107    141.25    242.84 ...             nan 150341.75          nan\n",
      "  108    160.26    246.84 ...             nan  20191.48          nan\n",
      "  109    270.41    224.23 ...             nan  99845.20          nan\n",
      "  110    271.76    230.95 ...             nan 104618.30          nan\n",
      "  111    269.89    236.16 ...             nan  12927.91          nan\n",
      "Length = 111 rows\n"
     ]
    }
   ],
   "source": [
    "from photutils.segmentation import SourceCatalog\n",
    "cat = SourceCatalog(data, segm_deblend)\n",
    "tbl = cat.to_table()\n",
    "tbl['xcentroid'].info.format = '.2f' \n",
    "tbl['ycentroid'].info.format = '.2f'\n",
    "tbl['kron_flux'].info.format = '.2f'\n",
    "print(tbl)"
   ]
  },
  {
   "cell_type": "code",
   "execution_count": 9,
   "metadata": {},
   "outputs": [
    {
     "data": {
      "text/plain": [
       "{'A0': 27.5,\n",
       " 'a0': 29.13523509488062,\n",
       " 'B0': 30.86770632850775,\n",
       " 'C1': 32.70319566257483,\n",
       " 'c1': 34.64782887210901,\n",
       " 'D1': 36.70809598967594,\n",
       " 'd1': 38.890872965260115,\n",
       " 'E1': 41.20344461410875,\n",
       " 'F1': 43.653528929125486,\n",
       " 'f1': 46.2493028389543,\n",
       " 'G1': 48.999429497718666,\n",
       " 'g1': 51.91308719749314,\n",
       " 'A1': 55.0,\n",
       " 'a1': 58.27047018976124,\n",
       " 'B1': 61.7354126570155,\n",
       " 'C2': 65.40639132514966,\n",
       " 'c2': 69.29565774421802,\n",
       " 'D2': 73.41619197935188,\n",
       " 'd2': 77.78174593052023,\n",
       " 'E2': 82.4068892282175,\n",
       " 'F2': 87.30705785825097,\n",
       " 'f2': 92.4986056779086,\n",
       " 'G2': 97.99885899543733,\n",
       " 'g2': 103.82617439498628,\n",
       " 'A2': 110.0,\n",
       " 'a2': 116.54094037952248,\n",
       " 'B2': 123.47082531403103,\n",
       " 'C3': 130.8127826502993,\n",
       " 'c3': 138.59131548843604,\n",
       " 'D3': 146.8323839587038,\n",
       " 'd3': 155.56349186104046,\n",
       " 'E3': 164.81377845643496,\n",
       " 'F3': 174.61411571650194,\n",
       " 'f3': 184.9972113558172,\n",
       " 'G3': 195.99771799087463,\n",
       " 'g3': 207.65234878997256,\n",
       " 'A3': 220.0,\n",
       " 'a3': 233.08188075904496,\n",
       " 'B3': 246.94165062806206,\n",
       " 'C4': 261.6255653005986,\n",
       " 'c4': 277.1826309768721,\n",
       " 'D4': 293.6647679174076,\n",
       " 'd4': 311.1269837220809,\n",
       " 'E4': 329.6275569128699,\n",
       " 'F4': 349.2282314330039,\n",
       " 'f4': 369.9944227116344,\n",
       " 'G4': 391.99543598174927,\n",
       " 'g4': 415.3046975799451,\n",
       " 'A4': 440.0,\n",
       " 'a4': 466.1637615180899,\n",
       " 'B4': 493.8833012561241,\n",
       " 'C5': 523.2511306011972,\n",
       " 'c5': 554.3652619537442,\n",
       " 'D5': 587.3295358348151,\n",
       " 'd5': 622.2539674441618,\n",
       " 'E5': 659.2551138257398,\n",
       " 'F5': 698.4564628660078,\n",
       " 'f5': 739.9888454232688,\n",
       " 'G5': 783.9908719634985,\n",
       " 'g5': 830.6093951598903,\n",
       " 'A5': 880.0,\n",
       " 'a5': 932.3275230361799,\n",
       " 'B5': 987.7666025122483,\n",
       " 'C6': 1046.5022612023945,\n",
       " 'c6': 1108.7305239074883,\n",
       " 'D6': 1174.6590716696303,\n",
       " 'd6': 1244.5079348883237,\n",
       " 'E6': 1318.5102276514797,\n",
       " 'F6': 1396.9129257320155,\n",
       " 'f6': 1479.9776908465376,\n",
       " 'G6': 1567.981743926997,\n",
       " 'g6': 1661.2187903197805,\n",
       " 'A6': 1760.0,\n",
       " 'a6': 1864.6550460723597,\n",
       " 'B6': 1975.533205024496,\n",
       " 'C7': 2093.004522404789,\n",
       " 'c7': 2217.4610478149766,\n",
       " 'D7': 2349.31814333926,\n",
       " 'd7': 2489.0158697766474,\n",
       " 'E7': 2637.02045530296,\n",
       " 'F7': 2793.825851464031,\n",
       " 'f7': 2959.955381693075,\n",
       " 'G7': 3135.9634878539946,\n",
       " 'g7': 3322.437580639561,\n",
       " 'A7': 3520.0,\n",
       " 'a7': 3729.3100921447194,\n",
       " 'B7': 3951.066410048992,\n",
       " 'C8': 4186.009044809578,\n",
       " '': 0.0}"
      ]
     },
     "execution_count": 9,
     "metadata": {},
     "output_type": "execute_result"
    }
   ],
   "source": [
    " # White keys are in Uppercase and black keys (sharps) are in lowercase\n",
    "octave = ['C', 'c', 'D', 'd', 'E', 'F', 'f', 'G', 'g', 'A', 'a', 'B'] \n",
    "base_freq = 440 #Frequency of Note A4\n",
    "keys = np.array([x+str(y) for y in range(0,9) for x in octave])\n",
    "# Trim to standard 88 keys\n",
    "start = np.where(keys == 'A0')[0][0]\n",
    "end = np.where(keys == 'C8')[0][0]\n",
    "keys = keys[start:end+1]\n",
    "\n",
    "note_freqs = dict(zip(keys, [2**((n+1-49)/12)*base_freq for n in range(len(keys))]))\n",
    "note_freqs[''] = 0.0 # stop\n",
    "\n",
    "note_freqs"
   ]
  },
  {
   "cell_type": "code",
   "execution_count": 19,
   "metadata": {},
   "outputs": [
    {
     "data": {
      "image/png": "[encoded data removed]",
      "text/plain": [
       "<Figure size 432x288 with 1 Axes>"
      ]
     },
     "metadata": {},
     "output_type": "display_data"
    }
   ],
   "source": [
    "import numpy as np\n",
    "from scipy.io import wavfile\n",
    "import matplotlib.pyplot as plt\n",
    "plt.style.use('seaborn-dark')\n",
    "\n",
    "# Load data from wav file\n",
    "sample_rate, middle_c = wavfile.read('data/bass_c.wav')\n",
    "\n",
    "#FFT\n",
    "t = np.arange(middle_c.shape[0])\n",
    "freq = np.fft.fftfreq(t.shape[-1])*sample_rate\n",
    "sp = np.fft.fft(middle_c) \n",
    "\n",
    "# Plot spectrum\n",
    "plt.plot(freq, abs(sp.real))\n",
    "plt.xlabel('Frequency (Hz)')\n",
    "plt.ylabel('Amplitude')\n",
    "plt.title('Spectrum of Middle C Recording on Piano')\n",
    "plt.xlim((0, 2000))\n",
    "# plt.ylim(0,2000)\n",
    "plt.grid()"
   ]
  },
  {
   "cell_type": "code",
   "execution_count": 20,
   "metadata": {},
   "outputs": [
    {
     "data": {
      "text/plain": [
       "array([ 0,  0,  0, ..., 15, 14, 10], dtype=int16)"
      ]
     },
     "execution_count": 20,
     "metadata": {},
     "output_type": "execute_result"
    }
   ],
   "source": [
    "middle_c"
   ]
  },
  {
   "cell_type": "code",
   "execution_count": 21,
   "metadata": {},
   "outputs": [],
   "source": [
    "# Get positive frequency\n",
    "idx = np.where(freq > 0)[0]\n",
    "freq = freq[idx]\n",
    "sp = sp[idx]\n",
    "\n",
    "# Get dominant frequencies\n",
    "sort = np.argsort(-abs(sp.real))[:100]\n",
    "dom_freq = freq[sort]\n",
    "\n",
    "# Round and calculate amplitude ratio\n",
    "freq_ratio = np.round(dom_freq/261.6255653005986)\n",
    "unique_freq_ratio = np.unique(freq_ratio)\n",
    "amp_ratio = abs(sp.real[sort]/np.sum(sp.real[sort]))\n",
    "factor = np.zeros((int(unique_freq_ratio[-1]), ))\n",
    "for i in range(factor.shape[0]):\n",
    "    idx = np.where(freq_ratio==i+1)[0]\n",
    "    factor[i] = np.sum(amp_ratio[idx])\n",
    "factor = factor/np.sum(factor)\n"
   ]
  },
  {
   "cell_type": "code",
   "execution_count": 22,
   "metadata": {},
   "outputs": [
    {
     "data": {
      "text/plain": [
       "array([0.89640525, 0.08522547, 0.        , 0.        , 0.01836929])"
      ]
     },
     "execution_count": 22,
     "metadata": {},
     "output_type": "execute_result"
    }
   ],
   "source": [
    "factor"
   ]
  },
  {
   "cell_type": "code",
   "execution_count": 14,
   "metadata": {},
   "outputs": [
    {
     "name": "stdout",
     "output_type": "stream",
     "text": [
      "Requirement already satisfied: pydub in c:\\users\\online\\appdata\\local\\programs\\python\\python310\\lib\\site-packages (0.25.1)\n",
      "Note: you may need to restart the kernel to use updated packages.\n"
     ]
    },
    {
     "name": "stderr",
     "output_type": "stream",
     "text": [
      "WARNING: You are using pip version 21.2.3; however, version 22.0.4 is available.\n",
      "You should consider upgrading via the 'C:\\Users\\online\\AppData\\Local\\Programs\\Python\\Python310\\python.exe -m pip install --upgrade pip' command.\n"
     ]
    }
   ],
   "source": [
    "pip install pydub"
   ]
  },
  {
   "cell_type": "code",
   "execution_count": 31,
   "metadata": {},
   "outputs": [
    {
     "name": "stderr",
     "output_type": "stream",
     "text": [
      "C:\\Users\\online\\AppData\\Local\\Programs\\Python\\Python310\\lib\\site-packages\\pydub\\utils.py:170: RuntimeWarning: Couldn't find ffmpeg or avconv - defaulting to ffmpeg, but may not work\n",
      "  warn(\"Couldn't find ffmpeg or avconv - defaulting to ffmpeg, but may not work\", RuntimeWarning)\n"
     ]
    }
   ],
   "source": [
    "# Python3 program to illustrate\n",
    "# splitting stereo audio to mono\n",
    "# using pydub\n",
    "\n",
    "# Import AudioSegment from pydub\n",
    "import pydub\n",
    "from pydub import AudioSegment\n",
    "\n",
    "# Open the stereo audio file as\n",
    "# an AudioSegment instance\n",
    "stereo_audio = AudioSegment.from_file(\"data\\media-ced7ee7e.wav\", format=\"wav\")\n",
    "\n",
    "# Calling the split_to_mono method\n",
    "# on the stereo audio file\n",
    "mono_audios = stereo_audio.split_to_mono()\n",
    "\n",
    "# Exporting/Saving the two mono\n",
    "# audio files present at index 0(left)\n",
    "# and index 1(right) of list returned\n",
    "# by split_to_mono method\n",
    "mono_left = mono_audios[0].export(\"data/mono_left.wav\",\n",
    "\tformat=\"wav\")\n",
    "mono_right = mono_audios[1].export(\n",
    "\t\"data/mono_right.wav\",\n",
    "\tformat=\"wav\")\n"
   ]
  },
  {
   "cell_type": "code",
   "execution_count": null,
   "metadata": {},
   "outputs": [],
   "source": []
  }
 ],
 "metadata": {
  "interpreter": {
   "hash": "4a4d42a1e4186927ec2b471deae6215938aa75c3979f76d8d57d220035f27049"
  },
  "kernelspec": {
   "display_name": "Python 3.10.0 64-bit",
   "language": "python",
   "name": "python3"
  },
  "language_info": {
   "codemirror_mode": {
    "name": "ipython",
    "version": 3
   },
   "file_extension": ".py",
   "mimetype": "text/x-python",
   "name": "python",
   "nbconvert_exporter": "python",
   "pygments_lexer": "ipython3",
   "version": "3.10.0"
  },
  "orig_nbformat": 4
 },
 "nbformat": 4,
 "nbformat_minor": 2
}
